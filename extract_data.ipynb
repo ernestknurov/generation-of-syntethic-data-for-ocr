{
 "cells": [
  {
   "cell_type": "markdown",
   "metadata": {},
   "source": [
    "# Extracting data from archives"
   ]
  },
  {
   "cell_type": "code",
   "execution_count": 1,
   "metadata": {},
   "outputs": [],
   "source": [
    "import os\n",
    "import zipfile\n",
    "\n",
    "def extract_zip(zip_file_path, output_dir):\n",
    "    os.makedirs(output_dir, exist_ok=True)\n",
    "    with zipfile.ZipFile(zip_file_path, 'r') as zip_ref:\n",
    "        zip_ref.extractall(output_dir)\n",
    "\n",
    "# base_path = \"/teamspace/uploads/emnist/csv/\"\n",
    "# output_path = \"data/emnist/\"\n",
    "# for filename in os.listdir(base_path):\n",
    "#     if filename.endswith(\".zip\"):\n",
    "#         extract_zip(base_path + filename, output_path)\n"
   ]
  },
  {
   "cell_type": "code",
   "execution_count": 4,
   "metadata": {},
   "outputs": [],
   "source": [
    "extract_zip(\"data/Latin.zip\", \"data\")"
   ]
  },
  {
   "cell_type": "code",
   "execution_count": 3,
   "metadata": {},
   "outputs": [
    {
     "name": "stdout",
     "output_type": "stream",
     "text": [
      "Archive extracted successfully to data\n"
     ]
    }
   ],
   "source": [
    "import tarfile\n",
    "\n",
    "def extract_tar_gz(archive_path, extract_to):\n",
    "    \"\"\"\n",
    "    Extracts a .tar.gz archive to a specified directory.\n",
    "    \n",
    "    Args:\n",
    "    archive_path (str): The path to the .tar.gz archive file.\n",
    "    extract_to (str): The directory where the contents will be extracted.\n",
    "    \"\"\"\n",
    "    try:\n",
    "        with tarfile.open(archive_path, \"r:gz\") as tar:\n",
    "            tar.extractall(path=extract_to)\n",
    "            print(f\"Archive extracted successfully to {extract_to}\")\n",
    "    except tarfile.TarError as e:\n",
    "        print(f\"Error extracting the archive: {e}\")\n",
    "    except FileNotFoundError:\n",
    "        print(f\"The archive {archive_path} does not exist.\")\n",
    "    except Exception as e:\n",
    "        print(f\"An error occurred: {e}\")\n",
    "\n",
    "# Usage example:\n",
    "extract_tar_gz(\"data/handwritting_characters_database.tar.gz\", \"data\")\n"
   ]
  },
  {
   "cell_type": "code",
   "execution_count": null,
   "metadata": {},
   "outputs": [],
   "source": [
    "! pip install py7zr"
   ]
  },
  {
   "cell_type": "code",
   "execution_count": 7,
   "metadata": {},
   "outputs": [
    {
     "name": "stdout",
     "output_type": "stream",
     "text": [
      "Archive extracted successfully to data/english_handwritten_characters\n"
     ]
    }
   ],
   "source": [
    "import py7zr\n",
    "\n",
    "def extract_7z(archive_path, extract_to):\n",
    "    \"\"\"\n",
    "    Extracts a .7z archive to a specified directory.\n",
    "    \n",
    "    Args:\n",
    "    archive_path (str): The path to the .7z archive file.\n",
    "    extract_to (str): The directory where the contents will be extracted.\n",
    "    \"\"\"\n",
    "    try:\n",
    "        with py7zr.SevenZipFile(archive_path, mode='r') as z:\n",
    "            z.extractall(path=extract_to)\n",
    "            print(f\"Archive extracted successfully to {extract_to}\")\n",
    "    except py7zr.SevenZipFileError as e:\n",
    "        print(f\"Error extracting the archive: {e}\")\n",
    "    except FileNotFoundError:\n",
    "        print(f\"The archive {archive_path} does not exist.\")\n",
    "    except Exception as e:\n",
    "        print(f\"An error occurred: {e}\")\n",
    "\n",
    "# Usage example:\n",
    "extract_7z(\"data/english_handwritten_characters/Img.7z\", \"data/english_handwritten_characters\")\n"
   ]
  }
 ],
 "metadata": {
  "kernelspec": {
   "display_name": "Python 3",
   "language": "python",
   "name": "python3"
  },
  "language_info": {
   "codemirror_mode": {
    "name": "ipython",
    "version": 3
   },
   "file_extension": ".py",
   "mimetype": "text/x-python",
   "name": "python",
   "nbconvert_exporter": "python",
   "pygments_lexer": "ipython3",
   "version": "3.10.10"
  }
 },
 "nbformat": 4,
 "nbformat_minor": 2
}

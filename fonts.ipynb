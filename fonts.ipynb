{
 "cells": [
  {
   "cell_type": "markdown",
   "metadata": {},
   "source": [
    "# Generate symbols from fonts"
   ]
  },
  {
   "cell_type": "markdown",
   "metadata": {},
   "source": [
    "## Imports"
   ]
  },
  {
   "cell_type": "code",
   "execution_count": 1,
   "metadata": {},
   "outputs": [
    {
     "name": "stderr",
     "output_type": "stream",
     "text": [
      "Matplotlib created a temporary cache directory at /tmp/matplotlib-m6vdiewf because the default path (/teamspace/studios/this_studio/.config/matplotlib) is not a writable directory; it is highly recommended to set the MPLCONFIGDIR environment variable to a writable directory, in particular to speed up the import of Matplotlib and to better support multiprocessing.\n"
     ]
    }
   ],
   "source": [
    "import os\n",
    "import pandas as pd\n",
    "import matplotlib.pyplot as plt\n",
    "from PIL import Image, ImageDraw, ImageFont\n",
    "\n",
    "import os\n",
    "import torch\n",
    "import torchvision.transforms as transforms\n",
    "from torch.utils.data import Dataset\n"
   ]
  },
  {
   "cell_type": "code",
   "execution_count": 2,
   "metadata": {},
   "outputs": [],
   "source": [
    "def generate_symbol(symbol, font_path, ratio=0.8, image_size=(28, 28)):\n",
    "    INITIAL_IMAGE_SIZE = (1000, 1000)\n",
    "    font = ImageFont.truetype(font_path, size=INITIAL_IMAGE_SIZE[0] // 3)\n",
    "    image = Image.new(\"RGB\", INITIAL_IMAGE_SIZE, color=\"black\")\n",
    "    draw = ImageDraw.Draw(image)\n",
    "    bbox = draw.textbbox((0, 0), symbol, font=font)\n",
    "    text_width, text_height = bbox[2] - bbox[0], bbox[3] - bbox[1]\n",
    "    position = ((INITIAL_IMAGE_SIZE[0] - text_width) // 2, (INITIAL_IMAGE_SIZE[1] - text_height) // 2)\n",
    "    draw.text(position, symbol, fill=\"white\", font=font, anchor='lt')\n",
    "\n",
    "    # centering image\n",
    "    side_len = max(text_height, text_width)\n",
    "    indent = int(side_len * (1 - ratio) / ratio) // 2\n",
    "    diff = max(text_height, text_width) - min(text_height, text_width)\n",
    "    largest_side = \"height\" if text_height == side_len else \"width\"\n",
    "    if largest_side == \"height\":\n",
    "        x, y = position[0] - indent - diff // 2, position[1] - indent\n",
    "    else:\n",
    "        x, y = position[0] - indent, position[1] - indent - diff // 2\n",
    "    square_box = (x, y, x + side_len + 2 * indent, y + side_len + 2 * indent)\n",
    "    # draw.rectangle(square_box, outline='blue')\n",
    "    image = image.crop(square_box)\n",
    "    image = image.resize(image_size)\n",
    "    return image\n",
    "    "
   ]
  },
  {
   "cell_type": "code",
   "execution_count": 3,
   "metadata": {},
   "outputs": [],
   "source": [
    "def print_image(image, symbol):\n",
    "    fig, ax = plt.subplots(figsize=(4, 8))\n",
    "\n",
    "    ax.imshow(image, cmap='gray')\n",
    "    ax.set_title(symbol)\n",
    "    # ax.axis('off')  # Hide axes\n",
    "\n",
    "    plt.tight_layout()\n",
    "    plt.show()"
   ]
  },
  {
   "cell_type": "code",
   "execution_count": 4,
   "metadata": {},
   "outputs": [],
   "source": [
    "def save_image(image, path):\n",
    "    image.save(path)"
   ]
  },
  {
   "cell_type": "code",
   "execution_count": 5,
   "metadata": {},
   "outputs": [],
   "source": [
    "def generate_font_characters(font_dir, output_dir, symbols, ratio=0.8, image_size=(28, 28)):\n",
    "    dataset = pd.DataFrame(columns=['path', 'label'])\n",
    "    os.makedirs(output_dir, exist_ok=True)\n",
    "    for font in os.listdir(font_dir):\n",
    "        font_path = os.path.join(font_dir, font)\n",
    "        for symbol in symbols:\n",
    "            image = generate_symbol(symbol, font_path, ratio=ratio, image_size=image_size)\n",
    "            # print_image(image, symbol)\n",
    "            save_image(image, f\"{output_dir}/{symbol} ({font.split('.')[0]}).png\")\n",
    "            dataset.loc[len(dataset)] = [f\"{output_dir}/{symbol} ({font.split('.')[0]}).png\", symbol]\n",
    "\n",
    "    return dataset"
   ]
  },
  {
   "cell_type": "code",
   "execution_count": 10,
   "metadata": {},
   "outputs": [
    {
     "data": {
      "text/html": [
       "<div>\n",
       "<style scoped>\n",
       "    .dataframe tbody tr th:only-of-type {\n",
       "        vertical-align: middle;\n",
       "    }\n",
       "\n",
       "    .dataframe tbody tr th {\n",
       "        vertical-align: top;\n",
       "    }\n",
       "\n",
       "    .dataframe thead th {\n",
       "        text-align: right;\n",
       "    }\n",
       "</style>\n",
       "<table border=\"1\" class=\"dataframe\">\n",
       "  <thead>\n",
       "    <tr style=\"text-align: right;\">\n",
       "      <th></th>\n",
       "      <th>path</th>\n",
       "      <th>label</th>\n",
       "    </tr>\n",
       "  </thead>\n",
       "  <tbody>\n",
       "    <tr>\n",
       "      <th>0</th>\n",
       "      <td>data/fonts/fonts_characters/0 (Affectionately ...</td>\n",
       "      <td>0</td>\n",
       "    </tr>\n",
       "    <tr>\n",
       "      <th>1</th>\n",
       "      <td>data/fonts/fonts_characters/1 (Affectionately ...</td>\n",
       "      <td>1</td>\n",
       "    </tr>\n",
       "    <tr>\n",
       "      <th>2</th>\n",
       "      <td>data/fonts/fonts_characters/2 (Affectionately ...</td>\n",
       "      <td>2</td>\n",
       "    </tr>\n",
       "    <tr>\n",
       "      <th>3</th>\n",
       "      <td>data/fonts/fonts_characters/3 (Affectionately ...</td>\n",
       "      <td>3</td>\n",
       "    </tr>\n",
       "    <tr>\n",
       "      <th>4</th>\n",
       "      <td>data/fonts/fonts_characters/4 (Affectionately ...</td>\n",
       "      <td>4</td>\n",
       "    </tr>\n",
       "  </tbody>\n",
       "</table>\n",
       "</div>"
      ],
      "text/plain": [
       "                                                path label\n",
       "0  data/fonts/fonts_characters/0 (Affectionately ...     0\n",
       "1  data/fonts/fonts_characters/1 (Affectionately ...     1\n",
       "2  data/fonts/fonts_characters/2 (Affectionately ...     2\n",
       "3  data/fonts/fonts_characters/3 (Affectionately ...     3\n",
       "4  data/fonts/fonts_characters/4 (Affectionately ...     4"
      ]
     },
     "execution_count": 10,
     "metadata": {},
     "output_type": "execute_result"
    }
   ],
   "source": [
    "# symbols = \"ABCDEFGHIJKLMNOPQRSTUVWXYZabcdefghijklmnopqrstuvwxyz0123456789\"\n",
    "symbols = '0123456789ABCDEFGHIJKLMNOPQRSTUVWXYZabdefghnqrt'\n",
    "# symbols = \"A\"\n",
    "dataset = generate_font_characters(\"data/fonts/fonts_files\", \"data/fonts/fonts_characters\", symbols)\n",
    "dataset.head()"
   ]
  },
  {
   "cell_type": "code",
   "execution_count": 11,
   "metadata": {},
   "outputs": [],
   "source": [
    "dataset.to_csv(\"data/fonts/dataset.csv\", index=False)"
   ]
  },
  {
   "cell_type": "code",
   "execution_count": 21,
   "metadata": {},
   "outputs": [],
   "source": [
    "class FontDataset:\n",
    "    def __init__(self, dataset_path, mapping_path, transform=None, limit=None):\n",
    "        self.path = dataset_path\n",
    "        self.dataset = pd.read_csv(self.path)\n",
    "        self.transform = transform\n",
    "        with open(mapping_path, \"r\") as f:\n",
    "            lines = f.read().split(\"\\n\")[:-1]\n",
    "            self.mapping = {}\n",
    "            self.unmapping = {}\n",
    "            for line in lines:\n",
    "                char_class, char_code = line.split()\n",
    "                self.mapping[int(char_class)] = chr(int(char_code))\n",
    "                self.unmapping[chr(int(char_code))] = int(char_class)\n",
    "        if limit:\n",
    "            self.dataset = dataset.sample(limit)\n",
    "\n",
    "    def __getitem__(self, idx):\n",
    "        if isinstance(idx, slice):\n",
    "            images_path = self.dataset.iloc[idx][\"path\"]\n",
    "            images = [Image.open(path) for path in images_path]\n",
    "            if self.transform:\n",
    "                images = torch.stack([self.transform(img) for img in images])  # Apply transform per image\n",
    "                # images = images.unsqueeze(1)  # Add channel dimension: [Batch, 1, 28, 28]\n",
    "\n",
    "            labels = [self.unmapping[label] for label in self.dataset.iloc[idx][\"label\"]]\n",
    "            labels = torch.tensor(labels, dtype=torch.long)\n",
    "            return images, labels\n",
    "\n",
    "        else:\n",
    "            image_path = self.dataset.iloc[idx][\"path\"]\n",
    "            image = Image.open(image_path)\n",
    "            if self.transform:\n",
    "                image = self.transform(image)\n",
    "                # image = image.unsqueeze(0) \n",
    "                # print_tensor_stats(image, \"Transformed Image\")\n",
    "\n",
    "            label = self.unmapping[self.dataset.iloc[idx][\"label\"]]\n",
    "            label = torch.tensor(label, dtype=torch.long)\n",
    "            return image, label"
   ]
  },
  {
   "cell_type": "code",
   "execution_count": 12,
   "metadata": {},
   "outputs": [],
   "source": [
    "font_transform = transforms.Compose([\n",
    "        transforms.ToTensor(),\n",
    "        transforms.Grayscale(1),\n",
    "        transforms.Normalize(mean=(0.5,), std=(0.5,)),  # Normalize to [-1, 1]\n",
    "    ])"
   ]
  },
  {
   "cell_type": "code",
   "execution_count": 22,
   "metadata": {},
   "outputs": [],
   "source": [
    "df = FontDataset(\"data/fonts/dataset.csv\", \"data/fonts/mapping.txt\", font_transform)"
   ]
  },
  {
   "cell_type": "markdown",
   "metadata": {},
   "source": [
    "## Show"
   ]
  },
  {
   "cell_type": "code",
   "execution_count": 24,
   "metadata": {},
   "outputs": [
    {
     "name": "stdout",
     "output_type": "stream",
     "text": [
      "['Autumn in November.ttf', 'James Fajardo.ttf', 'SCRIPTIN.ttf', 'PrincessSofia-Regular.ttf', 'Andina Demo.otf', 'Aurella.ttf', 'Scribble.ttf', 'MrDafoe-Regular.ttf', 'Otto.ttf', 'mulders-handwriting.ttf', 'Quikhand.ttf', 'HoneyScript-Light.ttf', 'alphabetized cassette tapes.ttf', 'LadylikeBB.ttf', 'Quirlycues.ttf', 'beneg___.ttf', 'blzee.ttf', 'HoneyScript-SemiBold.ttf', 'Stylish Calligraphy Demo.ttf', 'akaDora.ttf', 'Qwigley-Regular.ttf', 'Ruthie-Regular.ttf', 'Always In My Heart.ttf', 'Allema Free Demo.ttf', 'Great Day Personal Use.ttf', 'Holligate Signature Demo.ttf', 'Tafelschrift.ttf', 'Magenta Rose.ttf', 'Affectionately Yours - TTF.ttf', 'Distant_Stroke.otf', 'GOODDP__.TTF', 'FabfeltScript-Bold.otf']\n"
     ]
    }
   ],
   "source": [
    "BASE_PATH = \"data/fonts\"\n",
    "list_of_fonts = os.listdir(BASE_PATH)\n",
    "print(list_of_fonts)"
   ]
  },
  {
   "cell_type": "code",
   "execution_count": 106,
   "metadata": {},
   "outputs": [
    {
     "data": {
      "image/png": "[encoded data removed]",
      "text/plain": [
       "<Figure size 400x800 with 1 Axes>"
      ]
     },
     "metadata": {},
     "output_type": "display_data"
    }
   ],
   "source": [
    "symbol = \"R\"\n",
    "font_path = os.path.join(BASE_PATH, list_of_fonts[0])\n",
    "img = generate_symbol(symbol, font_path, ratio=0.8, image_size=(28, 28))\n",
    "print_image(img, symbol)"
   ]
  }
 ],
 "metadata": {
  "kernelspec": {
   "display_name": "cloudspace",
   "language": "python",
   "name": "python3"
  },
  "language_info": {
   "codemirror_mode": {
    "name": "ipython",
    "version": 3
   },
   "file_extension": ".py",
   "mimetype": "text/x-python",
   "name": "python",
   "nbconvert_exporter": "python",
   "pygments_lexer": "ipython3",
   "version": "3.10.10"
  }
 },
 "nbformat": 4,
 "nbformat_minor": 2
}
